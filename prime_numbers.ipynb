{
 "cells": [
  {
   "cell_type": "raw",
   "id": "02499631",
   "metadata": {},
   "source": [
    "=> Prime numbers is a Natural numbers>1\n",
    "=> Prime numbers have only two factors 1 and itself.\n",
    "=> If factors greater than two then this is not a prime number.\n",
    "\n",
    "ex:\n",
    "   3 => factors of 3 is: 3 and 1 only two factors => Prime number\n",
    "   28 => factors of 28 is: 1,2,4,5,8,10,20,40.  => More than 2 factors => Not Prime number\n",
    "   "
   ]
  },
  {
   "cell_type": "markdown",
   "id": "d564ff18",
   "metadata": {},
   "source": [
    "# Method 1"
   ]
  },
  {
   "cell_type": "code",
   "execution_count": 21,
   "id": "fbb72aaf",
   "metadata": {},
   "outputs": [
    {
     "name": "stdout",
     "output_type": "stream",
     "text": [
      "Enter a number which you want to check: 4\n",
      "Not prime number\n"
     ]
    }
   ],
   "source": [
    "num=int(input(\"Enter a number which you want to check: \"))\n",
    "count=0\n",
    "\n",
    "if num>1:\n",
    "    for i in range(1,num+1):\n",
    "        if (num%i)==0:\n",
    "            count=count+1\n",
    "    if count == 2:\n",
    "            print(\"Prime number\")\n",
    "            \n",
    "    else:\n",
    "            \n",
    "  \n",
    "            print(\"Not prime number\")\n",
    "           "
   ]
  },
  {
   "cell_type": "code",
   "execution_count": 30,
   "id": "65422bb7",
   "metadata": {},
   "outputs": [
    {
     "name": "stdout",
     "output_type": "stream",
     "text": [
      "Enter a number which you want to check: 193\n",
      "Prime Number\n"
     ]
    }
   ],
   "source": [
    "num=int(input(\"Enter a number which you want to check: \"))\n",
    "count=0\n",
    "\n",
    "for i in range(1,num+1):\n",
    "    if (num%i) == 0:\n",
    "        count=count+1\n",
    "if count == 2:\n",
    "    print(\"Prime Number\")\n",
    "\n",
    "else:\n",
    "    print(\"Not Prime number\")\n",
    "\n"
   ]
  },
  {
   "cell_type": "markdown",
   "id": "ba170d8a",
   "metadata": {},
   "source": [
    "# Method 2"
   ]
  },
  {
   "cell_type": "code",
   "execution_count": 33,
   "id": "6e5dad49",
   "metadata": {},
   "outputs": [
    {
     "name": "stdout",
     "output_type": "stream",
     "text": [
      "Prime\n"
     ]
    }
   ],
   "source": [
    "num=17\n",
    "\n",
    "for i in range(2,num):\n",
    "    if num%i == 0:\n",
    "        print(\"Not Prime\")\n",
    "        break\n",
    "else:\n",
    "    print(\"Prime\")"
   ]
  },
  {
   "cell_type": "markdown",
   "id": "38163a1d",
   "metadata": {},
   "source": []
  },
  {
   "cell_type": "markdown",
   "id": "a79262a4",
   "metadata": {},
   "source": [
    "The first few prime numbers are as follows: 2, 3, 5, 7, 11, 13, 17, 19, 23, 29, 31, 37, 41, 43, 47, 53, 59, 61, 67, 71, 73, 79, 83, 89, 97, 101, 103, 107, 109, 113, 127, 131, 137, 139, 149, 151, 157, 163, 167, 173, 179, 181, 191, 193, 197, and 199, etc."
   ]
  },
  {
   "cell_type": "markdown",
   "id": "27d83fc3",
   "metadata": {},
   "source": []
  },
  {
   "cell_type": "code",
   "execution_count": 39,
   "id": "e42b6260",
   "metadata": {},
   "outputs": [
    {
     "name": "stdout",
     "output_type": "stream",
     "text": [
      "Enter a number which you want to check: 13\n",
      "Prime\n"
     ]
    }
   ],
   "source": [
    "num=int(input(\"Enter a number which you want to check: \"))\n",
    "\n",
    "for i in range(2,num):\n",
    "    if num%i == 0:\n",
    "        print(\"Not Prime\")\n",
    "        break\n",
    "else:\n",
    "    print(\"Prime\")"
   ]
  },
  {
   "cell_type": "code",
   "execution_count": 41,
   "id": "68c11b37",
   "metadata": {},
   "outputs": [
    {
     "name": "stdout",
     "output_type": "stream",
     "text": [
      "Enter a number which you want to check: 59\n",
      "Prime\n"
     ]
    }
   ],
   "source": [
    "num=int(input(\"Enter a number which you want to check: \"))\n",
    "\n",
    "for i in range(2,num):\n",
    "    if num%i == 0:\n",
    "        print(\"Not Prime\")\n",
    "        break\n",
    "else:\n",
    "    print(\"Prime\")"
   ]
  },
  {
   "cell_type": "markdown",
   "id": "41c63ade",
   "metadata": {},
   "source": [
    "# Method 3"
   ]
  },
  {
   "cell_type": "code",
   "execution_count": 44,
   "id": "6aec0702",
   "metadata": {},
   "outputs": [
    {
     "name": "stdout",
     "output_type": "stream",
     "text": [
      "This is Prime Number.\n"
     ]
    }
   ],
   "source": [
    "num=151\n",
    "prime=True\n",
    "\n",
    "for i in range(2,num):\n",
    "    if num % i == 0:\n",
    "        prime= False\n",
    "    \n",
    "if prime:\n",
    "    print(\"This is Prime Number.\")\n",
    "else:\n",
    "    print(\"This is not a Prime Number\")"
   ]
  },
  {
   "cell_type": "code",
   "execution_count": 46,
   "id": "14f20144",
   "metadata": {},
   "outputs": [
    {
     "name": "stdout",
     "output_type": "stream",
     "text": [
      "Enter a number: 45\n",
      "45 is not a prime number.\n"
     ]
    }
   ],
   "source": [
    "number=int(input(\"Enter a number: \"))\n",
    "prime=True\n",
    "\n",
    "for i in range(2,number):\n",
    "    if number % i == 0:\n",
    "        prime=False\n",
    "        \n",
    "        \n",
    "if prime:\n",
    "    print(number,\"is a prime number.\")\n",
    "else:\n",
    "    print(number,\"is not a prime number.\")"
   ]
  },
  {
   "cell_type": "code",
   "execution_count": 47,
   "id": "fa09722c",
   "metadata": {},
   "outputs": [
    {
     "name": "stdout",
     "output_type": "stream",
     "text": [
      "Enter a number: 199\n",
      "199 is a prime number.\n"
     ]
    }
   ],
   "source": [
    "number=int(input(\"Enter a number: \"))\n",
    "prime=True\n",
    "\n",
    "for i in range(2,number):\n",
    "    if number % i == 0:\n",
    "        prime=False\n",
    "        \n",
    "        \n",
    "if prime:\n",
    "    print(number,\"is a prime number.\")\n",
    "else:\n",
    "    print(number,\"is not a prime number.\")"
   ]
  },
  {
   "cell_type": "markdown",
   "id": "c4c14ba2",
   "metadata": {},
   "source": [
    "# Write a program to print prime numbers from 1 to 20."
   ]
  },
  {
   "cell_type": "code",
   "execution_count": 56,
   "id": "0d3789dc",
   "metadata": {},
   "outputs": [
    {
     "name": "stdout",
     "output_type": "stream",
     "text": [
      "Enter a lower range: 1\n",
      "Enter a upper range: 20\n",
      "2\n",
      "3\n",
      "5\n",
      "7\n",
      "11\n",
      "13\n",
      "17\n",
      "19\n"
     ]
    }
   ],
   "source": [
    "lower_range=int(input(\"Enter a lower range: \"))\n",
    "upper_range=int(input(\"Enter a upper range: \"))\n",
    "\n",
    "for num in range(lower_range,upper_range+1):  # for num in range(1,20);  num=1 to 20\n",
    "    if num>1:                                # 1 is !> 1 therefore it take that is num=2 which is > 1.\n",
    "        for i in range(2,num):                 # for 1st iteration num=2\n",
    "            if num%i == 0:                \n",
    "                break\n",
    "        else:\n",
    "            print(num)\n",
    "   \n",
    "                \n",
    "\n",
    "  "
   ]
  },
  {
   "cell_type": "code",
   "execution_count": null,
   "id": "ab16639d",
   "metadata": {},
   "outputs": [],
   "source": []
  },
  {
   "cell_type": "code",
   "execution_count": 57,
   "id": "c761eb6a",
   "metadata": {},
   "outputs": [
    {
     "data": {
      "text/plain": [
       "0"
      ]
     },
     "execution_count": 57,
     "metadata": {},
     "output_type": "execute_result"
    }
   ],
   "source": [
    "2%2"
   ]
  },
  {
   "cell_type": "markdown",
   "id": "c9c21aef",
   "metadata": {},
   "source": [
    "# Write a program to print prime numbers from 5 to 20."
   ]
  },
  {
   "cell_type": "code",
   "execution_count": 58,
   "id": "4d68fed1",
   "metadata": {},
   "outputs": [
    {
     "name": "stdout",
     "output_type": "stream",
     "text": [
      "Enter a lower range: 5\n",
      "Enter a upper range: 20\n",
      "5\n",
      "7\n",
      "11\n",
      "13\n",
      "17\n",
      "19\n"
     ]
    }
   ],
   "source": [
    "lower_range=int(input(\"Enter a lower range: \"))   # 5\n",
    "upper_range=int(input(\"Enter a upper range: \"))   # 20\n",
    "\n",
    "for num in range(lower_range,upper_range+1):  # for num in range(5,20);  num=5 to 20\n",
    "    if num>1:                                # In num for 1st iteration 5 so 5>1;True.\n",
    "        for i in range(2,num):                 # for 1st iteration num=5 therefore; i=2,3 & 4.\n",
    "            if num%i == 0:                #  for 1st iteration 5 % 2 is !=0,5% 3is !=0 then 5% 4 is also != 0\n",
    "                                              # for 2nd iteration num=6 and i = 2 to 5 ;6%2 = 0 therefore break the statement.\n",
    "                                                # for 3rd itera. num = 7 and i=2 to 6 like wise.\n",
    "                break        # This is for breaking the statement.\n",
    "        else:\n",
    "            print(num)   # print(num)\n",
    "   \n",
    "                \n"
   ]
  },
  {
   "cell_type": "code",
   "execution_count": 59,
   "id": "009f292d",
   "metadata": {},
   "outputs": [
    {
     "data": {
      "text/plain": [
       "0"
      ]
     },
     "execution_count": 59,
     "metadata": {},
     "output_type": "execute_result"
    }
   ],
   "source": [
    "6%2"
   ]
  },
  {
   "cell_type": "code",
   "execution_count": 60,
   "id": "a328e519",
   "metadata": {},
   "outputs": [
    {
     "data": {
      "text/plain": [
       "1"
      ]
     },
     "execution_count": 60,
     "metadata": {},
     "output_type": "execute_result"
    }
   ],
   "source": [
    "5%2"
   ]
  },
  {
   "cell_type": "code",
   "execution_count": 61,
   "id": "4087ea50",
   "metadata": {},
   "outputs": [
    {
     "data": {
      "text/plain": [
       "0"
      ]
     },
     "execution_count": 61,
     "metadata": {},
     "output_type": "execute_result"
    }
   ],
   "source": [
    "8%2"
   ]
  },
  {
   "cell_type": "code",
   "execution_count": 62,
   "id": "88f8d2bc",
   "metadata": {},
   "outputs": [
    {
     "data": {
      "text/plain": [
       "4"
      ]
     },
     "execution_count": 62,
     "metadata": {},
     "output_type": "execute_result"
    }
   ],
   "source": [
    "8//2"
   ]
  },
  {
   "cell_type": "markdown",
   "id": "18958be3",
   "metadata": {},
   "source": [
    "# Write a program to print prime numbers between 20 to 80.\n"
   ]
  },
  {
   "cell_type": "code",
   "execution_count": 63,
   "id": "693d0ccb",
   "metadata": {},
   "outputs": [
    {
     "name": "stdout",
     "output_type": "stream",
     "text": [
      "Enter lower range: 20\n",
      "Enter upper range: 80\n",
      "23\n",
      "29\n",
      "31\n",
      "37\n",
      "41\n",
      "43\n",
      "47\n",
      "53\n",
      "59\n",
      "61\n",
      "67\n",
      "71\n",
      "73\n",
      "79\n"
     ]
    }
   ],
   "source": [
    "lower=int(input(\"Enter lower range: \"))\n",
    "upper=int(input(\"Enter upper range: \"))\n",
    "\n",
    "for i in range(lower,upper):\n",
    "    if i>1:\n",
    "        for j in range(2,i):\n",
    "            if (i%j)==0:\n",
    "                break\n",
    "        else:\n",
    "            print(i)"
   ]
  },
  {
   "cell_type": "markdown",
   "id": "50eb8a4a",
   "metadata": {},
   "source": [
    "# Write a program to print all prime numbers between 1 to 100."
   ]
  },
  {
   "cell_type": "code",
   "execution_count": 6,
   "id": "4e4f29af",
   "metadata": {},
   "outputs": [
    {
     "name": "stdout",
     "output_type": "stream",
     "text": [
      "100\n"
     ]
    }
   ],
   "source": [
    "for num in range(1,101):\n",
    "    if num>1:\n",
    "        for i in range(2,num):\n",
    "            if (num%i)==10:\n",
    "                break\n",
    "                \n",
    "else:\n",
    "    print(num)\n",
    "        "
   ]
  },
  {
   "cell_type": "code",
   "execution_count": 8,
   "id": "a9c50972",
   "metadata": {},
   "outputs": [
    {
     "name": "stdout",
     "output_type": "stream",
     "text": [
      "2\t3\t5\t7\t11\t13\t17\t19\t23\t29\t31\t37\t41\t43\t47\t53\t59\t61\t67\t71\t73\t79\t83\t89\t97\t"
     ]
    }
   ],
   "source": [
    "lower_range=1\n",
    "upper_range=100\n",
    "\n",
    "for num in range(lower_range,upper_range+1):\n",
    "    if num > 1:\n",
    "        for i in range(2,num):\n",
    "            if num%i == 0:\n",
    "                break\n",
    "        else:\n",
    "            print(num,end=\"\\t\")"
   ]
  },
  {
   "cell_type": "code",
   "execution_count": null,
   "id": "c85d99be",
   "metadata": {},
   "outputs": [],
   "source": []
  },
  {
   "cell_type": "markdown",
   "id": "99e083b0",
   "metadata": {},
   "source": [
    "# Write a program to print all prime numbers between 100 to 200."
   ]
  },
  {
   "cell_type": "code",
   "execution_count": 10,
   "id": "0c3d4dff",
   "metadata": {},
   "outputs": [
    {
     "name": "stdout",
     "output_type": "stream",
     "text": [
      "101\n",
      "103\n",
      "107\n",
      "109\n",
      "113\n",
      "127\n",
      "131\n",
      "137\n",
      "139\n",
      "149\n",
      "151\n",
      "157\n",
      "163\n",
      "167\n",
      "173\n",
      "179\n",
      "181\n",
      "191\n",
      "193\n",
      "197\n",
      "199\n"
     ]
    }
   ],
   "source": [
    "num1=100\n",
    "num2=200\n",
    "\n",
    "for i in range(num1,num2+1):\n",
    "    if i > 1:\n",
    "        for j in range(2,i):\n",
    "            if (i%j)==0:\n",
    "                break\n",
    "                \n",
    "        else:\n",
    "            print(i)"
   ]
  },
  {
   "cell_type": "markdown",
   "id": "4fa359d6",
   "metadata": {},
   "source": [
    "# Write a program to check whether the given number is prime or not.\n"
   ]
  },
  {
   "cell_type": "code",
   "execution_count": 22,
   "id": "8b57a612",
   "metadata": {},
   "outputs": [
    {
     "name": "stdout",
     "output_type": "stream",
     "text": [
      "Prime\n"
     ]
    }
   ],
   "source": [
    "num=37\n",
    "is_prime=True\n",
    "\n",
    "for i in range(2,num):\n",
    "    if num%i == 0:\n",
    "        is_prime=False\n",
    "        \n",
    "if is_prime:\n",
    "    print(\"Prime\")\n",
    "else:\n",
    "    print(\"Not Prime\")\n",
    "        "
   ]
  },
  {
   "cell_type": "markdown",
   "id": "fbab6a05",
   "metadata": {},
   "source": [
    "# user input"
   ]
  },
  {
   "cell_type": "code",
   "execution_count": 27,
   "id": "d0fe65af",
   "metadata": {},
   "outputs": [
    {
     "name": "stdout",
     "output_type": "stream",
     "text": [
      "Enter a number:167\n",
      "167 is prime number.\n"
     ]
    }
   ],
   "source": [
    "num=int(input(\"Enter a number:\"))\n",
    "is_prime=True\n",
    "\n",
    "for i in range(2,num):\n",
    "    if (num%i) == 0:\n",
    "        is_prime=False\n",
    "        \n",
    "if is_prime:\n",
    "    print(num,\"is prime number.\")\n",
    "else:\n",
    "    print(num,\"is not prime number.\")"
   ]
  },
  {
   "cell_type": "code",
   "execution_count": 28,
   "id": "2235c7d9",
   "metadata": {},
   "outputs": [
    {
     "name": "stdout",
     "output_type": "stream",
     "text": [
      "Enter a number:193\n",
      "193 is prime number.\n"
     ]
    }
   ],
   "source": [
    "num=int(input(\"Enter a number:\"))\n",
    "is_prime=True\n",
    "\n",
    "for i in range(2,num):\n",
    "    if (num%i) == 0:\n",
    "        is_prime=False\n",
    "        \n",
    "if is_prime:\n",
    "    print(num,\"is prime number.\")\n",
    "else:\n",
    "    print(num,\"is not prime number.\")"
   ]
  },
  {
   "cell_type": "code",
   "execution_count": 35,
   "id": "0f326d81",
   "metadata": {},
   "outputs": [
    {
     "name": "stdout",
     "output_type": "stream",
     "text": [
      "Enter a number:85\n",
      "85 is not prime number.\n"
     ]
    }
   ],
   "source": [
    "num=int(input(\"Enter a number:\"))\n",
    "is_prime=True\n",
    "\n",
    "for i in range(2,num):\n",
    "    if (num%i) == 0:\n",
    "        is_prime=False\n",
    "        \n",
    "if is_prime:\n",
    "    print(num,\"is prime number.\")\n",
    "else:\n",
    "    print(num,\"is not prime number.\")"
   ]
  },
  {
   "cell_type": "code",
   "execution_count": 43,
   "id": "e9379cca",
   "metadata": {},
   "outputs": [
    {
     "name": "stdout",
     "output_type": "stream",
     "text": [
      "Enter number:149\n",
      "Prime number.\n"
     ]
    }
   ],
   "source": [
    "num=int(input(\"Enter number:\"))\n",
    "count=0\n",
    "\n",
    "for i in range(1,num+1):\n",
    "    if (num%i) == 0:\n",
    "        count=count+1\n",
    "if count==2:\n",
    "    print(\"Prime number.\")\n",
    "else:\n",
    "    print(\"Not prime number.\")"
   ]
  },
  {
   "cell_type": "code",
   "execution_count": 42,
   "id": "910cae14",
   "metadata": {},
   "outputs": [
    {
     "name": "stdout",
     "output_type": "stream",
     "text": [
      "Enter number:157\n",
      "Prime number.\n"
     ]
    }
   ],
   "source": [
    "num=int(input(\"Enter number:\"))\n",
    "count=0\n",
    "\n",
    "for i in range(1,num+1):\n",
    "    if (num%i) == 0:\n",
    "        count=count+1\n",
    "if count==2:\n",
    "    print(\"Prime number.\")\n",
    "else:\n",
    "    print(\"Not prime number.\")"
   ]
  },
  {
   "cell_type": "code",
   "execution_count": 44,
   "id": "b5ba46ac",
   "metadata": {},
   "outputs": [
    {
     "name": "stdout",
     "output_type": "stream",
     "text": [
      "Enter number:84\n",
      "Not prime number.\n"
     ]
    }
   ],
   "source": [
    "num=int(input(\"Enter number:\"))\n",
    "count=0\n",
    "\n",
    "for i in range(1,num+1):\n",
    "    if (num%i) == 0:\n",
    "        count=count+1\n",
    "if count==2:\n",
    "    print(\"Prime number.\")\n",
    "else:\n",
    "    print(\"Not prime number.\")"
   ]
  },
  {
   "cell_type": "code",
   "execution_count": null,
   "id": "1eb8f623",
   "metadata": {},
   "outputs": [],
   "source": []
  }
 ],
 "metadata": {
  "kernelspec": {
   "display_name": "Python 3",
   "language": "python",
   "name": "python3"
  },
  "language_info": {
   "codemirror_mode": {
    "name": "ipython",
    "version": 3
   },
   "file_extension": ".py",
   "mimetype": "text/x-python",
   "name": "python",
   "nbconvert_exporter": "python",
   "pygments_lexer": "ipython3",
   "version": "3.8.8"
  }
 },
 "nbformat": 4,
 "nbformat_minor": 5
}
